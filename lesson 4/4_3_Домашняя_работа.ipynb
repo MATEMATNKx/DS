{
 "cells": [
  {
   "cell_type": "markdown",
   "metadata": {
    "id": "idnfa1hXYUOh"
   },
   "source": [
    "### Домашняя работа\n",
    "\n",
    "**Задание простого уровня** Загрузите данные из файла `non_linear.csv` и сгенерируйте данные до степени *degree = 8* включительно. Обучите модель `sklearn.linear_model.Lasso` и модель `sklearn.linear_model.Ridge` на полученных данных, используйте коэффициент регуляризации $\\alpha=0.8$ для обеих моделей. Постройте два столбчатых графика, на которых отобразите величину коэффициентов для Ridge регрессии и Lasso регрессии в виде столбиков.\n",
    "\n",
    "Пример графиков для 3-й степени (просто для примера, у вас может по-другому выглядеть). Какой можно сделать в вывод по величине коэффициентов?:\n",
    "![coeff_example](https://pp.userapi.com/c850136/v850136613/19282c/OfwruuxOkPw.jpg)"
   ]
  },
  {
   "cell_type": "markdown",
   "metadata": {
    "id": "emJrtls2NZSo"
   },
   "source": [
    "# Новый раздел"
   ]
  },
  {
   "cell_type": "code",
   "execution_count": 55,
   "metadata": {
    "id": "bYGmSdz4YUOh"
   },
   "outputs": [
    {
     "name": "stdout",
     "output_type": "stream",
     "text": [
      "x_train is:  (10, 8)\n",
      "0.09284713448746991\n",
      "0.07852416459969694\n"
     ]
    },
    {
     "name": "stderr",
     "output_type": "stream",
     "text": [
      "C:\\Users\\79227\\anaconda3\\lib\\site-packages\\sklearn\\linear_model\\_coordinate_descent.py:529: ConvergenceWarning: Objective did not converge. You might want to increase the number of iterations. Duality gap: 3.7134369621139607, tolerance: 0.0024481555784964045\n",
      "  model = cd_fast.enet_coordinate_descent(\n"
     ]
    }
   ],
   "source": [
    "# -- ВАШ КОД ТУТ\n",
    "import pandas as pd\n",
    "import numpy as np\n",
    "import matplotlib.pyplot as plt\n",
    "from sklearn.linear_model import Ridge, Lasso\n",
    "from sklearn.model_selection import train_test_split\n",
    "from sklearn.metrics import mean_squared_error\n",
    "import seaborn as sns\n",
    "#generate\n",
    "def generate_degree( data: list, degree: int):\n",
    "    return np.array([data**i for i in range(1, degree+1)]).T\n",
    "\n",
    "#setting\n",
    "df = pd.read_csv('../3.10_non_linear.csv')\n",
    "alpha = 0.8\n",
    "degree = 8\n",
    "syntetic = generate_degree(df['x_train'], degree)\n",
    "x_train, x_test, y_train, y_test = train_test_split(syntetic, df['y_train'], test_size = 0.2, random_state = 10)\n",
    "\n",
    "print('x_train is: ', x_test.shape)\n",
    "\n",
    "#train\n",
    "model_las = Lasso(alpha = alpha).fit(x_train,y_train) \n",
    "model_ri = Ridge(alpha = alpha).fit(x_train,y_train)\n",
    "\n",
    "#predict\n",
    "las_predict = model_las.predict(x_test)\n",
    "ri_predict = model_ri.predict(x_test)\n",
    "\n",
    "#loss\n",
    "print(mean_squared_error(y_test, las_predict))\n",
    "print(mean_squared_error(y_test, ri_predict))"
   ]
  },
  {
   "cell_type": "code",
   "execution_count": 56,
   "metadata": {},
   "outputs": [
    {
     "data": {
      "text/plain": [
       "array([-0.00000000e+00, -0.00000000e+00, -1.08299601e-02, -9.52247249e-03,\n",
       "        1.03490179e-03,  1.87872250e-04,  3.38785318e-06, -2.14838285e-06])"
      ]
     },
     "execution_count": 56,
     "metadata": {},
     "output_type": "execute_result"
    }
   ],
   "source": [
    "model_las.coef_"
   ]
  },
  {
   "cell_type": "code",
   "execution_count": 70,
   "metadata": {},
   "outputs": [
    {
     "data": {
      "image/png": "[encoded data removed]",
      "text/plain": [
       "<Figure size 432x288 with 1 Axes>"
      ]
     },
     "metadata": {
      "needs_background": "light"
     },
     "output_type": "display_data"
    }
   ],
   "source": [
    "plt.bar([i for i in range(1,10)],\\\n",
    "        np.array(model_las.coef_.tolist() + [model_las.intercept_.tolist()]),\\\n",
    "        label = 'Lasso', alpha = 0.8)\n",
    "plt.bar([i for i in range(1,10)],\\\n",
    "        np.array(model_ri.coef_.tolist() + [model_ri.intercept_.tolist()]),\\\n",
    "        label = 'Ridge', alpha = 0.5)\n",
    "plt.yticks([i/10 for i in range(-1,20, 3)])\n",
    "plt.legend()\n",
    "plt.show()"
   ]
  },
  {
   "cell_type": "code",
   "execution_count": 68,
   "metadata": {},
   "outputs": [
    {
     "data": {
      "image/png": "[encoded data removed]",
      "text/plain": [
       "<Figure size 432x288 with 1 Axes>"
      ]
     },
     "metadata": {
      "needs_background": "light"
     },
     "output_type": "display_data"
    }
   ],
   "source": [
    "plt.bar([i for i in range(1,9)],\\\n",
    "        np.array(model_las.coef_.tolist()),\\\n",
    "        label = 'Lasso', alpha = 0.8)\n",
    "plt.bar([i for i in range(1,9)],\\\n",
    "        np.array(model_ri.coef_.tolist()),\\\n",
    "        label = 'Ridge', alpha = 0.5)\n",
    "plt.legend()\n",
    "plt.show()"
   ]
  },
  {
   "cell_type": "markdown",
   "metadata": {},
   "source": [
    "Вывод: веса ridge регрессии имею больший разброс, а отличие от lasso"
   ]
  },
  {
   "cell_type": "markdown",
   "metadata": {},
   "source": [
    "#### Риндж обучилась хуже Лассо"
   ]
  },
  {
   "cell_type": "markdown",
   "metadata": {
    "id": "dGA2X5S5YUOl"
   },
   "source": [
    "Пока что мы пользуемся моделями с регуляризацией как \"черным ящиком\" - знаем, как применять и это работает! Для успешного решения задач этого достаточно. Если вам, как и мне, интересно *почему* это работает - добро пожаловать во второй урок, где Вас ждёт больше кода и формул!"
   ]
  }
 ],
 "metadata": {
  "celltoolbar": "Slideshow",
  "colab": {
   "collapsed_sections": [],
   "name": "4.3 Домашняя работа",
   "provenance": []
  },
  "kernelspec": {
   "display_name": "Python 3",
   "language": "python",
   "name": "python3"
  },
  "language_info": {
   "codemirror_mode": {
    "name": "ipython",
    "version": 3
   },
   "file_extension": ".py",
   "mimetype": "text/x-python",
   "name": "python",
   "nbconvert_exporter": "python",
   "pygments_lexer": "ipython3",
   "version": "3.8.5"
  }
 },
 "nbformat": 4,
 "nbformat_minor": 1
}
