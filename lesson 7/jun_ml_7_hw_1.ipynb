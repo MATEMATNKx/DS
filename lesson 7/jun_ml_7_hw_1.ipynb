{
 "cells": [
  {
   "cell_type": "markdown",
   "metadata": {
    "id": "d5lYtakjONu8"
   },
   "source": [
    "## Урок 2. Домашнее задание \n",
    "\n",
    "### 2.1 Домашнее задание начального уровня\n",
    "\n",
    "Вычислите евклидово расстояние между кластером *c1* и кластером *c3*. Это расстояние получилось меньше, или больше чем расстояние между кластером *c1* и кластером *c2*?\n",
    "\n",
    "Координаты центра для трёх кластеров:\n",
    "\n",
    "* \"красный\" кластер $c_1 = [1.0, 1.5]$\n",
    "* \"оранжевый\" кластер $c_2 = [-1.0, -0.5]$\n",
    "* \"зеленый\" кластер $c_3 = [1.0, -0.5]$\n",
    "\n",
    "![clustering_example](https://248006.selcdn.ru/public/DS.%20Block%202.%20M7/clustering_example.png)"
   ]
  },
  {
   "cell_type": "code",
   "execution_count": 29,
   "metadata": {
    "id": "_BUBuVtnONu_"
   },
   "outputs": [
    {
     "name": "stdout",
     "output_type": "stream",
     "text": [
      "Расстояние между red, orange = 4.0\n",
      "Расстояние между red, green = 2.0\n",
      "Расстояние между orange, green = 2.0\n"
     ]
    }
   ],
   "source": [
    "# -- ВАШ КОД ТУТ --\n",
    "import numpy as np\n",
    "def euclidean(p1, p2):\n",
    "    return np.sqrt(np.sum(p1 - p2)**2)\n",
    "\n",
    "red, orange, green = np.array([[1.0],[1.5]]),\\\n",
    "np.array([[-1.0],[-0.5]]),\\\n",
    "np.array([[1.0],[-0.5]])\n",
    "\n",
    "print('Расстояние между red, orange =', end = ' ')\n",
    "print(euclidean(red, orange))\n",
    "\n",
    "print('Расстояние между red, green =', end = ' ')\n",
    "print(euclidean(red, green))\n",
    "\n",
    "print('Расстояние между orange, green =', end = ' ')\n",
    "print(euclidean(orange, green))"
   ]
  },
  {
   "cell_type": "markdown",
   "metadata": {
    "id": "erGAkM0UONvJ"
   },
   "source": [
    "В этом уроке мы познакомились с постановкой задачи кластерeuclidean_distancesы узнали, с помощью какой функции можно вычислить расстояние между двумя точками. В следующем уроке мы рассмотрим один из самых простых алгоритмов кластеризации, который назовём алгоритмом $k-$средних."
   ]
  }
 ],
 "metadata": {
  "colab": {
   "name": "jun_ml_7_hw-1.ipynb",
   "provenance": []
  },
  "kernelspec": {
   "display_name": "Python 3",
   "language": "python",
   "name": "python3"
  },
  "language_info": {
   "codemirror_mode": {
    "name": "ipython",
    "version": 3
   },
   "file_extension": ".py",
   "mimetype": "text/x-python",
   "name": "python",
   "nbconvert_exporter": "python",
   "pygments_lexer": "ipython3",
   "version": "3.8.5"
  }
 },
 "nbformat": 4,
 "nbformat_minor": 4
}
