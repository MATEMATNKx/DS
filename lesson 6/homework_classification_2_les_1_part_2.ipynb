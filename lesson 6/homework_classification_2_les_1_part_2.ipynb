{
 "cells": [
  {
   "cell_type": "markdown",
   "metadata": {
    "id": "p0RpWMuyhXNc"
   },
   "source": [
    "# Урок 4. Метрики качества классификации ч.2\n",
    "\n",
    "Продолжим работу с метриками классификации. В предыдущем задании мы разобрали матрицу ошибок и две основные метрики, которые используются при бинарной классификации.\n",
    "\n",
    "Сейчас рассмотрим F-меру - совокупную метрику по precision и recall - и более сложную AUC-ROC."
   ]
  },
  {
   "cell_type": "markdown",
   "metadata": {
    "id": "desLnfjBhXNe"
   },
   "source": [
    "### 2.1\n",
    "Из задания к предыдущему уроку выберите классификатор, который давал наименьшее значение recall, вычислите для него precision, применив precision_score, и самостоятельно посчитайте F1-меру (расчеты должны присутствовать). Затем проверьте ответ, используя встроенную функцию.\n",
    "\n",
    "Сравните полученную f1-меру со значением среднего арифметического полноты и точности."
   ]
  },
  {
   "cell_type": "code",
   "execution_count": 1,
   "metadata": {
    "id": "PqBv_cQmhXNf"
   },
   "outputs": [],
   "source": [
    "from sklearn.metrics import precision_score, f1_score, recall_score\n",
    "from sklearn.neighbors import KNeighborsClassifier\n",
    "from sklearn.model_selection import train_test_split \n",
    "import pandas as pd\n",
    "import numpy as np"
   ]
  },
  {
   "cell_type": "code",
   "execution_count": 2,
   "metadata": {
    "id": "7inF9IHdhXNl"
   },
   "outputs": [
    {
     "name": "stderr",
     "output_type": "stream",
     "text": [
      "C:\\Users\\79227\\anaconda3\\lib\\site-packages\\pandas\\core\\series.py:4517: SettingWithCopyWarning: \n",
      "A value is trying to be set on a copy of a slice from a DataFrame\n",
      "\n",
      "See the caveats in the documentation: https://pandas.pydata.org/pandas-docs/stable/user_guide/indexing.html#returning-a-view-versus-a-copy\n",
      "  return super().fillna(\n"
     ]
    }
   ],
   "source": [
    "### YOUR CODE HERE ###\n",
    "#K-ближайщих соседей\n",
    "df_train = pd.read_csv('train.csv')\n",
    "#узнаю медианное значение\n",
    "median_age = df_train.groupby('Sex').agg({'Age':['median']}).reset_index()['Age']['median']\n",
    "\n",
    "#вычисляю индекс мужчин\n",
    "male_index = df_train[(df_train['Age'].isnull()) & (df_train['Sex'] == 'male') ].index.tolist()\n",
    "#заполняю возраст мужчин\n",
    "df_train.iloc[male_index]['Age'].fillna(median_age[1], inplace = True)\n",
    "\n",
    "#заполняю возраст женщин\n",
    "df_train['Age'].fillna(median_age[0], inplace = True )\n",
    "df_train['Cabin'].fillna('U', inplace = True)\n",
    "df_train['Embarked'].fillna('U', inplace = True)\n",
    "\n",
    "\n",
    "df_train['PassengerId'].isnull().sum() # пустые\n",
    "\n",
    "df_train[(df_train['PassengerId'] >= 6)&(df_train['PassengerId'] <= 20)]\n",
    "\n",
    "df_train['Sex'] = df_train['Sex'].apply(lambda x: int(x == 'female'))\n",
    "\n",
    "def replace(x):\n",
    "    return int((x == 'U')) * 0 + int(x == 'S') * 1 + int(x == 'C') * 2 + int(x == 'Q') * 3\n",
    "\n",
    "df_train['Embarked'] = df_train['Embarked'].apply(lambda x: replace(x))\n",
    "\n",
    "df_train.drop(['PassengerId', 'Name', 'Ticket', 'Cabin'], axis = 1, inplace = True)\n",
    "\n",
    "df_train\n",
    "\n",
    "\n",
    "x_train, x_test, y_train, y_test = train_test_split(df_train.iloc[::,1:],\\\n",
    "                                                    df_train['Survived'],\\\n",
    "                                                    test_size = 0.25,random_state = 17)\n",
    "\n"
   ]
  },
  {
   "cell_type": "code",
   "execution_count": 3,
   "metadata": {},
   "outputs": [
    {
     "name": "stdout",
     "output_type": "stream",
     "text": [
      "0.5521472392638037 1.295774647887324\n"
     ]
    }
   ],
   "source": [
    "kn = KNeighborsClassifier(n_neighbors = 5).fit(x_train, y_train)\n",
    "prediction = kn.predict(x_test)\n",
    "\n",
    "def f1(precision, recall):\n",
    "    return 2 * (precision * recall)/ (precision + recall)\n",
    "\n",
    "pr_score = precision_score(y_test.values, prediction)\n",
    "recall_score = recall_score(y_test.values, prediction)\n",
    "\n",
    "print(f1(pr_score, recall_score), pr_score/recall_score) # recall меньше"
   ]
  },
  {
   "cell_type": "markdown",
   "metadata": {
    "id": "zx1hiPXxhXNp"
   },
   "source": [
    "В библиотеке sklearn есть удобная функция classification_report, возвращающая precision, recall, F-меру и количество экземпляров каждого класса в удобном для чтения формате. Также существует функция precision_recall_fscore_support, возвращающая те же самые метрики, но в форме массива.\n",
    "\n",
    "### 2.2\n",
    "Для каждого классификатора из предыдущего урока рассчитайте и выведите следующие импортированные метрики."
   ]
  },
  {
   "cell_type": "code",
   "execution_count": 4,
   "metadata": {
    "id": "vhcIcGX5hXNq"
   },
   "outputs": [],
   "source": [
    "from sklearn.metrics import precision_recall_fscore_support, classification_report\n"
   ]
  },
  {
   "cell_type": "code",
   "execution_count": 5,
   "metadata": {
    "id": "zUPZhuTGhXNt"
   },
   "outputs": [
    {
     "name": "stdout",
     "output_type": "stream",
     "text": [
      "(array([0.69078947, 0.63380282]), array([0.80152672, 0.48913043]), array([0.74204947, 0.55214724]), array([131,  92], dtype=int64))               precision    recall  f1-score   support\n",
      "\n",
      "           0       0.69      0.80      0.74       131\n",
      "           1       0.63      0.49      0.55        92\n",
      "\n",
      "    accuracy                           0.67       223\n",
      "   macro avg       0.66      0.65      0.65       223\n",
      "weighted avg       0.67      0.67      0.66       223\n",
      "\n",
      "(array([0.79856115, 0.76190476]), array([0.84732824, 0.69565217]), array([0.82222222, 0.72727273]), array([131,  92], dtype=int64))               precision    recall  f1-score   support\n",
      "\n",
      "           0       0.80      0.85      0.82       131\n",
      "           1       0.76      0.70      0.73        92\n",
      "\n",
      "    accuracy                           0.78       223\n",
      "   macro avg       0.78      0.77      0.77       223\n",
      "weighted avg       0.78      0.78      0.78       223\n",
      "\n",
      "(array([0.80882353, 0.75862069]), array([0.83969466, 0.7173913 ]), array([0.82397004, 0.73743017]), array([131,  92], dtype=int64))               precision    recall  f1-score   support\n",
      "\n",
      "           0       0.81      0.84      0.82       131\n",
      "           1       0.76      0.72      0.74        92\n",
      "\n",
      "    accuracy                           0.79       223\n",
      "   macro avg       0.78      0.78      0.78       223\n",
      "weighted avg       0.79      0.79      0.79       223\n",
      "\n",
      "(array([0.78985507, 0.74117647]), array([0.83206107, 0.68478261]), array([0.81040892, 0.71186441]), array([131,  92], dtype=int64))               precision    recall  f1-score   support\n",
      "\n",
      "           0       0.79      0.83      0.81       131\n",
      "           1       0.74      0.68      0.71        92\n",
      "\n",
      "    accuracy                           0.77       223\n",
      "   macro avg       0.77      0.76      0.76       223\n",
      "weighted avg       0.77      0.77      0.77       223\n",
      "\n"
     ]
    },
    {
     "name": "stderr",
     "output_type": "stream",
     "text": [
      "C:\\Users\\79227\\anaconda3\\lib\\site-packages\\sklearn\\linear_model\\_logistic.py:762: ConvergenceWarning: lbfgs failed to converge (status=1):\n",
      "STOP: TOTAL NO. of ITERATIONS REACHED LIMIT.\n",
      "\n",
      "Increase the number of iterations (max_iter) or scale the data as shown in:\n",
      "    https://scikit-learn.org/stable/modules/preprocessing.html\n",
      "Please also refer to the documentation for alternative solver options:\n",
      "    https://scikit-learn.org/stable/modules/linear_model.html#logistic-regression\n",
      "  n_iter_i = _check_optimize_result(\n"
     ]
    }
   ],
   "source": [
    "### YOUR CODE HERE ###\n",
    "from sklearn.neighbors import KNeighborsClassifier\n",
    "from sklearn.naive_bayes import GaussianNB\n",
    "from sklearn.tree import DecisionTreeClassifier\n",
    "from sklearn.linear_model import LogisticRegression\n",
    "\n",
    "\n",
    "\n",
    "kn = KNeighborsClassifier(n_neighbors = 5).fit(x_train, y_train)\n",
    "nb = GaussianNB().fit(x_train, y_train)\n",
    "dtc = DecisionTreeClassifier().fit(x_train, y_train)\n",
    "logreg = LogisticRegression().fit(x_train, y_train)\n",
    "\n",
    "\n",
    "prediction_kn = kn.predict(x_test)\n",
    "prediction_nb = nb.predict(x_test)\n",
    "prediction_dtc = dtc.predict(x_test)\n",
    "prediction_logreg = logreg.predict(x_test)\n",
    "\n",
    "\n",
    "for i in [prediction_kn, prediction_nb, prediction_dtc, prediction_logreg]:\n",
    "    print(precision_recall_fscore_support(y_test.values, i)\\\n",
    "          ,classification_report(y_test.values, i) )"
   ]
  },
  {
   "cell_type": "markdown",
   "metadata": {
    "id": "sAisAae0hXNx"
   },
   "source": [
    "Вернемся к классификатору LogisticRegression, который мы обучали в предыдущем задании. Там мы не затрагивали настройку гиперпараметров: сделать это можно с помощью LogisticRegressionCV - перебора параметров по сетке с последующей кросс-валидацией (по сути это аналог GridSearchCV, но со своими параметрами внутри, применимыми только к логистической регрессии). Этот класс создан специально для логистической регрессии, т.к. для нее известны эффективные алгоритмы перебора параметров.\n",
    "\n",
    "У LogisticRegression есть гиперпараметр C - обратный коэффициент регуляризации. Не вдаваясь в подробное описание по формуле, можно сказать, что C соответствует \"сложности\" модели: чем больше C, тем более сложные зависимости может восстанавливать модель; если параметр C слишком мал (слишком сильная регуляризация), то модель окажется недообученной, а если наоборот регуляризация слишком слабая (т.е. C принимает большие значения), то скорее всего модель окажется переобученной, потому как модель будет слишком \"бояться\" ошибиться на обучающей выборке."
   ]
  },
  {
   "cell_type": "markdown",
   "metadata": {
    "id": "L-j5LLf3hXNx"
   },
   "source": [
    "### 2.3 \n",
    "\n",
    "1. Используя StratifiedKFold, разбейте данные для кросс-валидации по 5-ти блокам (не забывайте во всех методах использовать random_state=17).\n",
    "2. С помощью numpy.logspace разбейте интервал (-1, 2) на 500 значений.\n",
    "3. С помощью LogisticRegressionCV подберите оптимальный параметр C: установите гиперпараметр Cs равным объекту из п.2 (разбиение интервала (-1, 2) отвечает за подбор обратного коэффициента регуляризации C); cv равным объекту из п.1 (разбиение для кросс-валидации); scoring равным \"roc_auc\" (отвечает за оптимизацию гиперпараметров на кросс-валидации: метрика, установленная в scoring, контролирует, как оценивать модель при каждом из наборе параметров, т.е. показывает, какая метрика должна быть наилучшей).\n",
    "4. Обучите полученную модель на тренировочных данных."
   ]
  },
  {
   "cell_type": "code",
   "execution_count": 9,
   "metadata": {
    "id": "H-0WuZbphXNy"
   },
   "outputs": [],
   "source": [
    "from sklearn.model_selection import StratifiedKFold\n",
    "from sklearn.linear_model import LogisticRegressionCV\n",
    "import numpy as np"
   ]
  },
  {
   "cell_type": "code",
   "execution_count": 15,
   "metadata": {
    "id": "0ezY2p2RhXN4"
   },
   "outputs": [
    {
     "name": "stderr",
     "output_type": "stream",
     "text": [
      "C:\\Users\\79227\\anaconda3\\lib\\site-packages\\sklearn\\model_selection\\_split.py:293: FutureWarning: Setting a random_state has no effect since shuffle is False. This will raise an error in 0.24. You should leave random_state to its default (None), or set shuffle=True.\n",
      "  warnings.warn(\n"
     ]
    }
   ],
   "source": [
    "### YOUR CODE HERE ###\n",
    "skf = StratifiedKFold(n_splits = 5, random_state = 17)\n",
    "\n",
    "segment = np.logspace(-1,2, 500) # (10^(-1), 10 ^(2))\n",
    "\n",
    "lrcv = LogisticRegressionCV(Cs = segment.size,\\\n",
    "                            cv = skf,\\\n",
    "                            random_state = 17,\\\n",
    "                            scoring = \"roc_auc\").fit(x_train, y_train)"
   ]
  },
  {
   "cell_type": "code",
   "execution_count": 16,
   "metadata": {},
   "outputs": [],
   "source": [
    "prediction_lrcv = lrcv.predict(x_test)"
   ]
  },
  {
   "cell_type": "code",
   "execution_count": 17,
   "metadata": {},
   "outputs": [
    {
     "data": {
      "text/plain": [
       "array([0, 1, 0, 0, 1, 0, 0, 0, 0, 1, 1, 0, 0, 0, 1, 0, 1, 0, 1, 0, 1, 0,\n",
       "       1, 0, 1, 0, 0, 0, 0, 0, 0, 0, 0, 1, 0, 1, 0, 1, 0, 1, 1, 0, 1, 0,\n",
       "       1, 0, 0, 1, 1, 0, 1, 1, 0, 0, 0, 1, 0, 0, 0, 0, 1, 0, 0, 1, 1, 1,\n",
       "       1, 0, 0, 0, 1, 0, 0, 1, 0, 1, 1, 0, 0, 0, 1, 1, 0, 0, 0, 0, 0, 0,\n",
       "       0, 0, 1, 1, 0, 0, 0, 0, 1, 0, 0, 1, 0, 1, 1, 1, 1, 1, 0, 0, 0, 0,\n",
       "       0, 0, 0, 1, 1, 1, 1, 0, 1, 0, 0, 1, 1, 0, 1, 0, 0, 1, 0, 0, 0, 1,\n",
       "       0, 1, 0, 0, 1, 0, 1, 1, 0, 0, 0, 1, 0, 1, 0, 0, 0, 1, 1, 0, 0, 0,\n",
       "       1, 0, 0, 0, 1, 0, 1, 0, 1, 0, 0, 1, 0, 1, 0, 0, 1, 0, 1, 0, 0, 0,\n",
       "       1, 0, 0, 0, 0, 0, 1, 0, 0, 1, 1, 0, 0, 0, 0, 0, 1, 1, 0, 0, 0, 0,\n",
       "       0, 0, 0, 0, 0, 0, 0, 1, 0, 1, 1, 0, 1, 0, 0, 1, 1, 1, 1, 0, 1, 1,\n",
       "       0, 0, 1], dtype=int64)"
      ]
     },
     "execution_count": 17,
     "metadata": {},
     "output_type": "execute_result"
    }
   ],
   "source": [
    "prediction_lrcv"
   ]
  },
  {
   "cell_type": "markdown",
   "metadata": {
    "id": "kaE1oixihXN8"
   },
   "source": [
    "### 2.4\n",
    "Используя метод plot из matplotlib.pyplot, выведите график зависимости auc_roc от значения C."
   ]
  },
  {
   "cell_type": "markdown",
   "metadata": {
    "id": "yRsW0oWQhXN9"
   },
   "source": [
    "*Примечание: значения по оси x - разбиение с помощью np.logspace из п.2 предыдущего задания, а значения по оси y - среднее значение roc_auc по каждой валидации, т.е. среднее значение из полученных на каждом из 5-ти разбиений при данном параметре C (используйте метод scores_ объекта, который инкапсулирует LogisticRegressionCV).*"
   ]
  },
  {
   "cell_type": "code",
   "execution_count": 18,
   "metadata": {
    "id": "5H0CAgq9hXN-"
   },
   "outputs": [],
   "source": [
    "import matplotlib.pyplot as plt"
   ]
  },
  {
   "cell_type": "code",
   "execution_count": 26,
   "metadata": {
    "id": "KTZtXirYhXOC"
   },
   "outputs": [
    {
     "data": {
      "image/png": "[encoded data removed]",
      "text/plain": [
       "<Figure size 432x288 with 1 Axes>"
      ]
     },
     "metadata": {
      "needs_background": "light"
     },
     "output_type": "display_data"
    }
   ],
   "source": [
    "### YOUR CODE HERE ###\n",
    "\n",
    "\n",
    "plt.plot(segment, lrcv.scores_[1].mean(axis = 0), label = 'mean')\n",
    "\n",
    "plt.title(\"LogisticRegressionCV\")\n",
    "plt.ylabel('auc roc')\n",
    "plt.xlabel('C')\n",
    "\n",
    "plt.show()\n"
   ]
  },
  {
   "cell_type": "markdown",
   "metadata": {
    "id": "lv9qcBE4hXOH"
   },
   "source": [
    "### 2.5\n",
    "С помощью метода C_ того же объекта выведите лучшее значение C. Выведите более конкретную область графика (область ~15 точкам по x), включающую лучшее значение C.\n",
    "\n",
    "*Примечание: используйте plt.xlim.*"
   ]
  },
  {
   "cell_type": "code",
   "execution_count": 109,
   "metadata": {
    "scrolled": true
   },
   "outputs": [
    {
     "data": {
      "text/plain": [
       "(array([1.271184]),\n",
       " array([0.69419793, 0.69429604, 0.69439013, 0.69443832, 0.69448422,\n",
       "        0.69457946, 0.69462421, 0.69463167, 0.69467699, 0.6947751 ,\n",
       "        0.69481583, 0.69491222, 0.69505737, 0.69539243, 0.69558233,\n",
       "        0.69562823, 0.69567699, 0.69582616, 0.69586976, 0.69587263,\n",
       "        0.69611015, 0.69625531, 0.69644865, 0.69678428, 0.69692886,\n",
       "        0.69707114, 0.69754905, 0.69759782, 0.69778944, 0.69821859,\n",
       "        0.69831153, 0.69840849, 0.69855364, 0.69879289, 0.69946472,\n",
       "        0.70032473, 0.70070625, 0.70113712, 0.70142513, 0.70199885,\n",
       "        0.70238095, 0.70271601, 0.70319793, 0.7038669 , 0.70434366,\n",
       "        0.70467585, 0.70539357, 0.70577797, 0.70693115, 0.70731268,\n",
       "        0.70837005, 0.70870625, 0.71004647, 0.710428  , 0.71090878,\n",
       "        0.71205622, 0.71301205, 0.71348709, 0.7145393 , 0.71573838,\n",
       "        0.71630981, 0.71712335, 0.7179868 , 0.71851406, 0.71956512,\n",
       "        0.72061962, 0.72215433, 0.72363396, 0.72487722, 0.72707401,\n",
       "        0.72918187, 0.73018933, 0.73133964, 0.73225014, 0.73420769,\n",
       "        0.73602754, 0.73794148, 0.73933276, 0.74023924, 0.74177108,\n",
       "        0.74262823, 0.74459208, 0.74573723, 0.74750889, 0.74846242,\n",
       "        0.75028227, 0.75200287, 0.75353815, 0.75487665, 0.75707344,\n",
       "        0.75879518, 0.76061561, 0.76176649, 0.76319908, 0.76463396,\n",
       "        0.76683534, 0.76855823, 0.77070912, 0.77228571, 0.7746288 ,\n",
       "        0.77640046, 0.77835628, 0.78031784, 0.78175387, 0.78318761,\n",
       "        0.78472002, 0.78638956, 0.78825244, 0.78939931, 0.79102582,\n",
       "        0.79202754, 0.7936529 , 0.79580493, 0.79733276, 0.79924555,\n",
       "        0.80039185, 0.80182501, 0.80421343, 0.80588755, 0.806751  ,\n",
       "        0.80837177, 0.80947045, 0.81056569, 0.8121463 , 0.81391279,\n",
       "        0.81472174, 0.81539013, 0.81667986, 0.81748939, 0.81829776,\n",
       "        0.81968273, 0.82087952, 0.82216695, 0.8231245 , 0.82465634,\n",
       "        0.82532071, 0.82532301, 0.82647103, 0.82694951, 0.8274739 ,\n",
       "        0.82843144, 0.8285284 , 0.82910327, 0.82948709, 0.82987091,\n",
       "        0.83087435, 0.83135169, 0.83192771, 0.83307516, 0.83355307,\n",
       "        0.83484223, 0.83527137, 0.83570109, 0.83622777, 0.83637005,\n",
       "        0.83689616, 0.83722834, 0.83741824, 0.83775387, 0.83837349,\n",
       "        0.83884968, 0.83947103, 0.83985313, 0.84042628, 0.84090534,\n",
       "        0.84099943, 0.8417183 , 0.84195697, 0.84228744, 0.84262478,\n",
       "        0.84315032, 0.84329547, 0.84338784, 0.84348308, 0.84357889,\n",
       "        0.84391165, 0.84400975, 0.84414917, 0.84472404, 0.84472691,\n",
       "        0.84487034, 0.8449673 , 0.84525244, 0.84544636, 0.84558864,\n",
       "        0.84559036, 0.8457315 , 0.84578084, 0.8458755 , 0.84640103,\n",
       "        0.84644865, 0.84682387, 0.84682903, 0.84687091, 0.84691968,\n",
       "        0.84696558, 0.84696672, 0.84701492, 0.84701492, 0.84711073,\n",
       "        0.8471113 , 0.8471113 , 0.8471136 , 0.8471136 , 0.84711474,\n",
       "        0.84711819, 0.84715376, 0.84715433, 0.84716007, 0.84716236,\n",
       "        0.84716523, 0.84720195, 0.84720597, 0.84720711, 0.84725014,\n",
       "        0.84725473, 0.84729719, 0.84729834, 0.84729834, 0.84730407,\n",
       "        0.84734768, 0.8473494 , 0.84734997, 0.84735112, 0.84739472,\n",
       "        0.84739874, 0.8474475 , 0.8474475 , 0.84749053, 0.84749111,\n",
       "        0.84753643, 0.84753643, 0.84767929, 0.84768101, 0.84768216,\n",
       "        0.84772806, 0.84772863, 0.84772863, 0.84772863, 0.84773035,\n",
       "        0.84773092, 0.84777567, 0.84782444, 0.84782501, 0.84782616,\n",
       "        0.84782674, 0.84782674, 0.84782674, 0.84782674, 0.84787435,\n",
       "        0.84787435, 0.84787493, 0.84792197, 0.84792197, 0.84792255,\n",
       "        0.84792255, 0.84792255, 0.84792312, 0.84792312, 0.84792312,\n",
       "        0.84792312, 0.84792312, 0.84792312, 0.84792312, 0.84792312,\n",
       "        0.84792312, 0.84792312, 0.84792312, 0.84792312, 0.84792312,\n",
       "        0.84792312, 0.84796959, 0.84796959, 0.84797017, 0.84797074,\n",
       "        0.84797074, 0.84797074, 0.84797074, 0.84797074, 0.84797074,\n",
       "        0.84797074, 0.84797074, 0.84797074, 0.84797074, 0.84797131,\n",
       "        0.84797131, 0.84797131, 0.84797131, 0.84797131, 0.84797131,\n",
       "        0.84797131, 0.84797131, 0.84797131, 0.84797131, 0.84797131,\n",
       "        0.84797131, 0.84797131, 0.84797131, 0.84797131, 0.84797131,\n",
       "        0.84797131, 0.84797131, 0.84797131, 0.84797131, 0.84797131,\n",
       "        0.84797131, 0.84797131, 0.84797131, 0.84797131, 0.84797131,\n",
       "        0.84797131, 0.84797131, 0.84797131, 0.84797131, 0.84797131,\n",
       "        0.84797131, 0.84797131, 0.84797131, 0.84797131, 0.84797131,\n",
       "        0.84797131, 0.84797131, 0.84797131, 0.84797131, 0.84797131,\n",
       "        0.84797131, 0.84797131, 0.84797131, 0.84797131, 0.84797131,\n",
       "        0.84797131, 0.84797131, 0.84797131, 0.84797131, 0.84797131,\n",
       "        0.84797131, 0.84797131, 0.84797131, 0.84797131, 0.84797131,\n",
       "        0.84797131, 0.84797131, 0.84797131, 0.84797131, 0.84797131,\n",
       "        0.84797131, 0.84797131, 0.84797131, 0.84797131, 0.84797131,\n",
       "        0.84797131, 0.84797131, 0.84797131, 0.84797131, 0.84797131,\n",
       "        0.84797131, 0.84797131, 0.84797131, 0.84797131, 0.84797131,\n",
       "        0.84797131, 0.84797131, 0.84797131, 0.84797131, 0.84797131,\n",
       "        0.84797131, 0.84797131, 0.84797131, 0.84797131, 0.84797131,\n",
       "        0.84797131, 0.84797131, 0.84797131, 0.84797131, 0.84797131,\n",
       "        0.84797131, 0.84797131, 0.84797131, 0.84797131, 0.84797131,\n",
       "        0.84797131, 0.84797131, 0.84797131, 0.84797131, 0.84797131,\n",
       "        0.84797131, 0.84797131, 0.84797131, 0.84797131, 0.84797131,\n",
       "        0.84797131, 0.84797131, 0.84797131, 0.84797131, 0.84797131,\n",
       "        0.84797131, 0.84797131, 0.84797131, 0.84797131, 0.84797131,\n",
       "        0.84797131, 0.84797131, 0.84797131, 0.84797131, 0.84797131,\n",
       "        0.84797131, 0.84797131, 0.84797131, 0.84797131, 0.84797131,\n",
       "        0.84797131, 0.84797131, 0.84797131, 0.84797131, 0.84797131,\n",
       "        0.84797131, 0.84797131, 0.84797131, 0.84797131, 0.84797131,\n",
       "        0.84797131, 0.84797131, 0.84797131, 0.84797131, 0.84797131,\n",
       "        0.84797131, 0.84797131, 0.84797131, 0.84797131, 0.84797131,\n",
       "        0.84797131, 0.84797131, 0.84797131, 0.84801779, 0.84801893,\n",
       "        0.84801893, 0.84801893, 0.84801893, 0.84801893, 0.84801893,\n",
       "        0.84801893, 0.84801893, 0.84801893, 0.84801893, 0.84801893,\n",
       "        0.84801893, 0.84801893, 0.84801893, 0.84801893, 0.84801893,\n",
       "        0.84801893, 0.84801893, 0.84801893, 0.84801893, 0.84801893,\n",
       "        0.84801893, 0.84801893, 0.84801893, 0.84801893, 0.84801893,\n",
       "        0.84806598, 0.84806598, 0.84806598, 0.84806655, 0.84806655,\n",
       "        0.84806655, 0.84806655, 0.84806655, 0.84806655, 0.84806655,\n",
       "        0.84806655, 0.84806655, 0.84806655, 0.84806655, 0.84806655,\n",
       "        0.84806655, 0.84806655, 0.84806713, 0.84806713, 0.84806713,\n",
       "        0.84806713, 0.84806713, 0.84806713, 0.84811417, 0.84811417,\n",
       "        0.84811417, 0.84811417, 0.84811417, 0.84811417, 0.84811417,\n",
       "        0.84811417, 0.84811417, 0.84811474, 0.84811474, 0.84811532,\n",
       "        0.84811532, 0.84811532, 0.84811532, 0.84816179, 0.84816179]))"
      ]
     },
     "execution_count": 109,
     "metadata": {},
     "output_type": "execute_result"
    }
   ],
   "source": [
    "lrcv.C_, lrcv.scores_[1].mean(axis = 0)[i]"
   ]
  },
  {
   "cell_type": "code",
   "execution_count": 122,
   "metadata": {},
   "outputs": [
    {
     "name": "stdout",
     "output_type": "stream",
     "text": [
      "[305 304 308 309 306 311 310 255 280 279 283 284 285 286 257]\n"
     ]
    },
    {
     "data": {
      "text/plain": [
       "array([0.84811417, 0.84811417, 0.84811417, 0.84811417, 0.84811417,\n",
       "       0.84811417, 0.84811417, 0.84811417, 0.84811474, 0.84811474,\n",
       "       0.84811532, 0.84811532, 0.84811532, 0.84811532, 0.84816179])"
      ]
     },
     "execution_count": 122,
     "metadata": {},
     "output_type": "execute_result"
    }
   ],
   "source": [
    "i = np.argsort(lrcv.scores_[1].mean(axis = 0))#сортирую по возрастанию\n",
    "print(i[-16:-1]) # беру последние 15 точек\n",
    "lrcv.scores_[1].mean(axis = 0)[i[-16:-1]] # максимальное значение повтораяется\n"
   ]
  },
  {
   "cell_type": "code",
   "execution_count": null,
   "metadata": {},
   "outputs": [],
   "source": []
  },
  {
   "cell_type": "code",
   "execution_count": 128,
   "metadata": {
    "scrolled": true
   },
   "outputs": [
    {
     "data": {
      "text/plain": [
       "(0.8481617900172118, 0.8481617900172118)"
      ]
     },
     "execution_count": 128,
     "metadata": {},
     "output_type": "execute_result"
    }
   ],
   "source": [
    "lrcv.scores_[1].mean(axis = 0)[257]"
   ]
  },
  {
   "cell_type": "code",
   "execution_count": 123,
   "metadata": {},
   "outputs": [
    {
     "name": "stdout",
     "output_type": "stream",
     "text": [
      "\n",
      "так как у меня разбит интервал на 500 значений (-1,2) ---(10^(-1), 10^2)\n",
      "то, одно значение находится на интервале (|b|-|a|)/500,\n",
      "тогда 15 значений лежат на отрезке (|b|-|a|)/500 * 15,\n",
      "но нам нужно выбрать лучший интервал, индекс лучшего значение равен 305,\n",
      "тогда точка лежит в окрести (257 (индекс точки), (|b|-|a|)/500 * 15 )\n",
      "\n",
      "в виде двойного неравенства:\n",
      "( 257 (idx) - (|b|-|a|)/500 * 15 =< 257(idx) =< 257 (idx) +(|b|-|a|)/500 * 15 )\n",
      "\n",
      "более коротко:\n",
      "(100ŀ) (5 значений в одном целочисленном отрезке)\n",
      "\n",
      "xlim(257 (idx) - 3, 257 (idx) + 3) =>\n",
      "\n",
      "\n",
      "[(100/500 * 257) - 3: (100/500 * 257) + 3]\n",
      "\n",
      "\n"
     ]
    }
   ],
   "source": [
    "print(\n",
    "\"\"\"\n",
    "так как у меня разбит интервал на 500 значений (-1,2) ---(10^(-1), 10^2)\n",
    "то, одно значение находится на интервале (|b|-|a|)/500,\n",
    "тогда 15 значений лежат на отрезке (|b|-|a|)/500 * 15,\n",
    "но нам нужно выбрать лучший интервал, индекс лучшего значение равен 305,\n",
    "тогда точка лежит в окрести (257 (индекс точки), (|b|-|a|)/500 * 15 )\n",
    "\n",
    "в виде двойного неравенства:\n",
    "( 257 (idx) - (|b|-|a|)/500 * 15 =< 257(idx) =< 257 (idx) +(|b|-|a|)/500 * 15 )\n",
    "\n",
    "более коротко:\n",
    "(100\\500) (5 значений в одном целочисленном отрезке)\n",
    "\n",
    "xlim(257 (idx) - 3, 257 (idx) + 3) =>\n",
    "\n",
    "\n",
    "[(100/500 * 257) - 3: (100/500 * 257) + 3]\n",
    "\n",
    "\"\"\"\n",
    ")"
   ]
  },
  {
   "cell_type": "code",
   "execution_count": 129,
   "metadata": {
    "id": "BUoS6KvRhXOI"
   },
   "outputs": [
    {
     "data": {
      "image/png": "[encoded data removed]",
      "text/plain": [
       "<Figure size 432x288 with 1 Axes>"
      ]
     },
     "metadata": {
      "needs_background": "light"
     },
     "output_type": "display_data"
    }
   ],
   "source": [
    "### YOUR CODE HERE ###\n",
    "\n",
    "plt.plot(segment, lrcv.scores_[1].mean(axis = 0), label = 'mean')\n",
    "\n",
    "plt.title(\"LogisticRegressionCV\\nBest C_ = %f\" % lrcv.C_)\n",
    "plt.legend()\n",
    "plt.ylabel('auc roc')\n",
    "plt.xlabel('C')\n",
    "plt.xlim([(100/500 * 257) - 3, (100/500 * 257) + 3])\n",
    "#plt.xlim([0,2])\n",
    "plt.show()"
   ]
  },
  {
   "cell_type": "markdown",
   "metadata": {
    "id": "d6ihFwlJhXOL"
   },
   "source": [
    "### 2.6\n",
    "С помощью метода predict_proba получите вероятности принадлежности объектов тестовой выборки к классам. Постройте график roc_auc для тестовой выборки и выведите значение auc."
   ]
  },
  {
   "cell_type": "markdown",
   "metadata": {
    "id": "H0f_DNEMhXOM"
   },
   "source": [
    "**Пример** построения графика."
   ]
  },
  {
   "cell_type": "code",
   "execution_count": 131,
   "metadata": {
    "id": "WzMU7ULahXOM"
   },
   "outputs": [],
   "source": [
    "from sklearn.metrics import roc_auc_score, roc_curve"
   ]
  },
  {
   "cell_type": "code",
   "execution_count": null,
   "metadata": {
    "id": "Vv5vQq-_hXOR",
    "outputId": "802337a2-3f55-4021-e8d7-0488e63261ba"
   },
   "outputs": [
    {
     "data": {
      "text/plain": [
       "<matplotlib.legend.Legend at 0x7fc499cfaf60>"
      ]
     },
     "execution_count": 25,
     "metadata": {
      "tags": []
     },
     "output_type": "execute_result"
    },
    {
     "data": {
      "image/png": "[encoded data removed]",
      "text/plain": [
       "<Figure size 432x288 with 1 Axes>"
      ]
     },
     "metadata": {
      "tags": []
     },
     "output_type": "display_data"
    }
   ],
   "source": [
    "probas = logit_search.fit(x_train, y_train).predict_proba(x_train)\n",
    "fpr, tpr, _ = roc_curve(y_train, probas[:, 1])\n",
    "auc = roc_auc_score(y_train, probas[:, 1])\n",
    "plt.plot(fpr, tpr, label=\"auc=\" + str(auc))\n",
    "plt.legend(loc=4)"
   ]
  },
  {
   "cell_type": "code",
   "execution_count": 132,
   "metadata": {
    "id": "9ptD2581hXOY"
   },
   "outputs": [
    {
     "data": {
      "image/png": "[encoded data removed]",
      "text/plain": [
       "<Figure size 432x288 with 1 Axes>"
      ]
     },
     "metadata": {
      "needs_background": "light"
     },
     "output_type": "display_data"
    }
   ],
   "source": [
    "### YOUR CODE HERE ###\n",
    "probas = lrcv.predict_proba(x_test)\n",
    "fpr, tpr, _ = roc_curve(y_test, probas[:, 1])\n",
    "auc = roc_auc_score(y_test, probas[:,1])\n",
    "plt.plot(fpr, tpr, label = 'auc %f' % auc)\n",
    "plt.legend()\n",
    "plt.show()\n"
   ]
  },
  {
   "cell_type": "code",
   "execution_count": null,
   "metadata": {},
   "outputs": [],
   "source": []
  }
 ],
 "metadata": {
  "colab": {
   "collapsed_sections": [],
   "name": "homework_classification-2_les-1_part-2.ipynb",
   "provenance": []
  },
  "kernelspec": {
   "display_name": "Python 3",
   "language": "python",
   "name": "python3"
  },
  "language_info": {
   "codemirror_mode": {
    "name": "ipython",
    "version": 3
   },
   "file_extension": ".py",
   "mimetype": "text/x-python",
   "name": "python",
   "nbconvert_exporter": "python",
   "pygments_lexer": "ipython3",
   "version": "3.8.5"
  }
 },
 "nbformat": 4,
 "nbformat_minor": 4
}
