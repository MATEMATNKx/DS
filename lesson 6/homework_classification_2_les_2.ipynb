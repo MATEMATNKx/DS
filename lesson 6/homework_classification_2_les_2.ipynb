{
 "cells": [
  {
   "cell_type": "markdown",
   "metadata": {
    "id": "-smrZewE1tU2"
   },
   "source": [
    "# Урок 6. Многоклассовая классификация.\n",
    "\n",
    "Посмотрим на примере алгоритма логистической регрессии и метода опорных векторов, как работать с различными методами многоклассовой классификации."
   ]
  },
  {
   "cell_type": "markdown",
   "metadata": {
    "id": "S5kQdZzo1tU3"
   },
   "source": [
    "### 1.\n",
    "Вспомните датасет Wine. Загрузите его, разделите на тренировочную и тестовую выборки (random_state=17), используя только [9, 11, 12] признаки."
   ]
  },
  {
   "cell_type": "code",
   "execution_count": 2,
   "metadata": {
    "id": "paB2E5141tU4"
   },
   "outputs": [],
   "source": [
    "from sklearn.datasets import load_wine\n",
    "from sklearn.model_selection import train_test_split"
   ]
  },
  {
   "cell_type": "code",
   "execution_count": 3,
   "metadata": {
    "id": "LdwwBPqq1tU7"
   },
   "outputs": [],
   "source": [
    "### YOUR CODE HERE ###\n",
    "\n",
    "data = load_wine()\n",
    "#print(data.DESCR)\n",
    "x_train, x_test, y_train, y_test = train_test_split(data.data[::, [9, 11, 12]], data.target, random_state = 17, test_size = 0.2)"
   ]
  },
  {
   "cell_type": "markdown",
   "metadata": {
    "id": "HMLiMOUr1tU9"
   },
   "source": [
    "**Задайте тип кросс-валидации с помощью StratifiedKFold: 5-кратная, random_state=17.**"
   ]
  },
  {
   "cell_type": "code",
   "execution_count": 4,
   "metadata": {
    "id": "OTY-C4me1tU-"
   },
   "outputs": [],
   "source": [
    "from sklearn.model_selection import StratifiedKFold, cross_val_score"
   ]
  },
  {
   "cell_type": "code",
   "execution_count": 5,
   "metadata": {
    "id": "LOVHhQ921tVA"
   },
   "outputs": [
    {
     "name": "stderr",
     "output_type": "stream",
     "text": [
      "C:\\Users\\79227\\anaconda3\\lib\\site-packages\\sklearn\\model_selection\\_split.py:293: FutureWarning: Setting a random_state has no effect since shuffle is False. This will raise an error in 0.24. You should leave random_state to its default (None), or set shuffle=True.\n",
      "  warnings.warn(\n"
     ]
    }
   ],
   "source": [
    "skf = StratifiedKFold(n_splits = 5, random_state = 17)"
   ]
  },
  {
   "cell_type": "markdown",
   "metadata": {
    "id": "-2ClbxRe1tVC"
   },
   "source": [
    "### 2.\n",
    "Обучите логистическую регрессию (LogisticRegression) с параметром C по умолчанию и random_state=17. Укажите гиперпараметр multi_class='ovr' - по умолчанию многие классификаторы используют именно его. С помощью cross_val_score сделайте кросс-валидацию (используйте объект skf) и выведите среднюю долю правильных ответов на ней (используйте функцию mean). Отдельно выведите долю правильных ответов на тестовой выборке."
   ]
  },
  {
   "cell_type": "code",
   "execution_count": 6,
   "metadata": {
    "id": "oKxIIFGU1tVE"
   },
   "outputs": [],
   "source": [
    "from sklearn.linear_model import LogisticRegression\n",
    "from sklearn.metrics import accuracy_score"
   ]
  },
  {
   "cell_type": "code",
   "execution_count": 27,
   "metadata": {
    "id": "CJhpcgqc1tVJ"
   },
   "outputs": [],
   "source": [
    "### YOUR CODE HERE ###\n",
    "logr = LogisticRegression(random_state = 17,\\\n",
    "                       multi_class = 'ovr').fit(x_train, y_train)\n",
    "\n",
    "cross_val = cross_val_score(logr,x_test, y_test, cv = skf)"
   ]
  },
  {
   "cell_type": "code",
   "execution_count": 28,
   "metadata": {},
   "outputs": [
    {
     "data": {
      "text/plain": [
       "0.9428571428571428"
      ]
     },
     "execution_count": 28,
     "metadata": {},
     "output_type": "execute_result"
    }
   ],
   "source": [
    "cross_val.mean()"
   ]
  },
  {
   "cell_type": "markdown",
   "metadata": {
    "id": "k2JoC3fB1tVM"
   },
   "source": [
    "### 3.\n",
    "Обучите метод опорных векторов (SVC) с random_state=17 и остальными параметрами по умолчанию. Этот метод при мультиклассовой классификации также использует метод \"ovr\". Сделайте кросс-валидацию (используйте skf) и, как и в предыдущем пункте, выведите среднюю долю правильных ответов на ней. Отдельно выведите долю правильных ответов на тестовой выборке."
   ]
  },
  {
   "cell_type": "code",
   "execution_count": 16,
   "metadata": {
    "id": "50kaD7MQ1tVN"
   },
   "outputs": [],
   "source": [
    "from sklearn.svm import SVC"
   ]
  },
  {
   "cell_type": "code",
   "execution_count": 25,
   "metadata": {
    "id": "3DCvlNRd1tVR"
   },
   "outputs": [
    {
     "data": {
      "text/plain": [
       "0.6928571428571428"
      ]
     },
     "execution_count": 25,
     "metadata": {},
     "output_type": "execute_result"
    }
   ],
   "source": [
    "### YOUR CODE HERE ###\n",
    "svc = SVC(random_state = 17).fit(x_train, y_train)\n",
    "\n",
    "cross_val_svc = cross_val_score(svc, x_test, y_test, cv = skf)\n",
    "\n",
    "cross_val_svc.mean()"
   ]
  },
  {
   "cell_type": "markdown",
   "metadata": {
    "id": "xMvjv6pR1tVX"
   },
   "source": [
    "Как видно из полученной метрики, на тестовой выборке метод с гиперпараметрами по умолчанию работает явно намного хуже логистической регрессии. В целом, SVM достаточно плохо масштабируется на размер обучающего набора данных (как видно, даже с тремя признаками он работает не очень хорошо), но благодаря возможности выбора различных ядер (функций близости, которые помогают разделять данные) и другим гиперпараметрам SVM можно достаточно точно настроить под определенный вид данных. Подробнее на этом останавливаться в контексте данного урока не будем."
   ]
  },
  {
   "cell_type": "markdown",
   "metadata": {
    "id": "0LqZbdk31tVY"
   },
   "source": [
    "### 4.\n",
    "Для предсказаний обеих моделей постройте матрицу ошибок (confusion matrix) и напишите, какие классы каждая из моделей путает больше всего между собой."
   ]
  },
  {
   "cell_type": "code",
   "execution_count": 23,
   "metadata": {
    "id": "5dRSK--u1tVY"
   },
   "outputs": [],
   "source": [
    "from sklearn.metrics import classification_report, confusion_matrix"
   ]
  },
  {
   "cell_type": "code",
   "execution_count": 42,
   "metadata": {
    "id": "VkXUKkhp1tVb"
   },
   "outputs": [
    {
     "name": "stdout",
     "output_type": "stream",
     "text": [
      "LogRegression\n",
      "[[ 8  0  0]\n",
      " [ 0 16  0]\n",
      " [ 0  0 12]]\n",
      "\n",
      "\n",
      "\n",
      "SVC\n",
      "[[ 8  0  0]\n",
      " [ 0 16  0]\n",
      " [ 1 11  0]]\n"
     ]
    }
   ],
   "source": [
    "### YOUR CODE HERE ###\n",
    "y_pred = logr.predict(x_test)\n",
    "print(\"LogRegression\")\n",
    "print(confusion_matrix(y_test, y_pred))\n",
    "\n",
    "print(\"\\n\\n\")\n",
    "\n",
    "y_pred_svc = svc.predict(x_test)\n",
    "print(\"SVC\")\n",
    "print(confusion_matrix(y_test, y_pred_svc))"
   ]
  },
  {
   "cell_type": "markdown",
   "metadata": {},
   "source": [
    "модель SVC путает между собой классы 2 и 3, лог регрессия справляется удачно"
   ]
  },
  {
   "cell_type": "markdown",
   "metadata": {
    "id": "mqW8if321tVd"
   },
   "source": [
    "### 5.\n",
    "Для каждой модели выведите classification report."
   ]
  },
  {
   "cell_type": "code",
   "execution_count": 46,
   "metadata": {
    "id": "iuu7neuS1tVe"
   },
   "outputs": [
    {
     "name": "stdout",
     "output_type": "stream",
     "text": [
      "              precision    recall  f1-score   support\n",
      "\n",
      "           1       1.00      1.00      1.00         8\n",
      "           2       1.00      1.00      1.00        16\n",
      "           3       1.00      1.00      1.00        12\n",
      "\n",
      "    accuracy                           1.00        36\n",
      "   macro avg       1.00      1.00      1.00        36\n",
      "weighted avg       1.00      1.00      1.00        36\n",
      "\n",
      "              precision    recall  f1-score   support\n",
      "\n",
      "           1       0.89      1.00      0.94         8\n",
      "           2       0.59      1.00      0.74        16\n",
      "           3       0.00      0.00      0.00        12\n",
      "\n",
      "    accuracy                           0.67        36\n",
      "   macro avg       0.49      0.67      0.56        36\n",
      "weighted avg       0.46      0.67      0.54        36\n",
      "\n"
     ]
    },
    {
     "name": "stderr",
     "output_type": "stream",
     "text": [
      "C:\\Users\\79227\\anaconda3\\lib\\site-packages\\sklearn\\metrics\\_classification.py:1221: UndefinedMetricWarning: Precision and F-score are ill-defined and being set to 0.0 in labels with no predicted samples. Use `zero_division` parameter to control this behavior.\n",
      "  _warn_prf(average, modifier, msg_start, len(result))\n"
     ]
    }
   ],
   "source": [
    "### YOUR CODE HERE ###\n",
    "\n",
    "print(classification_report(y_test, y_pred, target_names = ['1','2','3']))\n",
    "\n",
    "\n",
    "print(classification_report(y_test, y_pred_svc, target_names = ['1','2','3']))\n"
   ]
  },
  {
   "cell_type": "code",
   "execution_count": null,
   "metadata": {},
   "outputs": [],
   "source": []
  }
 ],
 "metadata": {
  "colab": {
   "collapsed_sections": [],
   "name": "homework_classification-2_les-2.ipynb",
   "provenance": []
  },
  "kernelspec": {
   "display_name": "Python 3",
   "language": "python",
   "name": "python3"
  },
  "language_info": {
   "codemirror_mode": {
    "name": "ipython",
    "version": 3
   },
   "file_extension": ".py",
   "mimetype": "text/x-python",
   "name": "python",
   "nbconvert_exporter": "python",
   "pygments_lexer": "ipython3",
   "version": "3.8.5"
  }
 },
 "nbformat": 4,
 "nbformat_minor": 4
}
